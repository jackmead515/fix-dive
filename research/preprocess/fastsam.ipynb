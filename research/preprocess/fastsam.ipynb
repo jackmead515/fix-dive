{
 "cells": [
  {
   "cell_type": "code",
   "execution_count": 2,
   "metadata": {},
   "outputs": [
    {
     "name": "stdout",
     "output_type": "stream",
     "text": [
      "200\n"
     ]
    }
   ],
   "source": [
    "import numpy as np\n",
    "import requests\n",
    "\n",
    "with open('sample.png', 'rb') as f:\n",
    "    image = f.read()\n",
    "\n",
    "response = requests.get(\n",
    "    url='http://127.0.0.1:8001/api/annotate/points',\n",
    "    params={\n",
    "        'p': [ '875,300' ]\n",
    "    },\n",
    "    data=image\n",
    ")\n",
    "\n",
    "print(response.status_code)\n"
   ]
  }
 ],
 "metadata": {
  "kernelspec": {
   "display_name": "datadev-5ox7fytP",
   "language": "python",
   "name": "python3"
  },
  "language_info": {
   "codemirror_mode": {
    "name": "ipython",
    "version": 3
   },
   "file_extension": ".py",
   "mimetype": "text/x-python",
   "name": "python",
   "nbconvert_exporter": "python",
   "pygments_lexer": "ipython3",
   "version": "3.10.12"
  },
  "orig_nbformat": 4
 },
 "nbformat": 4,
 "nbformat_minor": 2
}
